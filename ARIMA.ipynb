{
 "cells": [
  {
   "cell_type": "code",
   "execution_count": null,
   "metadata": {},
   "outputs": [],
   "source": [
    "# %load ARIMA (2).py\n",
    "import pandas as pd\n",
    "import matplotlib.pyplot as plt\n",
    "import statsmodels.graphics.tsaplots as tsa_plots\n",
    "from statsmodels.tsa.arima_model import ARIMA\n",
    "\n",
    "Amtrak = pd.read_csv(\"F:\\\\DS\\\\Python Codes\\\\Final\\\\Forecasting\\\\Amtrak.csv\")\n",
    "Amtrak.rename(columns={\"Ridership ('000)\":\"Ridership\"},inplace=True)  \n",
    "\n",
    "tsa_plots.plot_acf(Amtrak.Ridership,lags=12)\n",
    "tsa_plots.plot_pacf(Amtrak.Ridership,lags=12)\n",
    "\n",
    "\n",
    "model1=ARIMA(Amtrak.Ridership,order=(1,1,6)).fit(disp=0)\n",
    "model2=ARIMA(Amtrak.Ridership,order=(1,1,5)).fit(disp=0)\n",
    "model1.aic\n",
    "model2.aic\n",
    "\n",
    "p=1\n",
    "q=0\n",
    "d=1\n",
    "pdq=[]\n",
    "aic=[]\n",
    "for q in range(7):\n",
    "    try:\n",
    "        model=ARIMA(Amtrak.Ridership,order=(p,d,q)).fit(disp=0)\n",
    "\n",
    "        x=model.aic\n",
    "\n",
    "        x1= p,d,q\n",
    "               \n",
    "        aic.append(x)\n",
    "        pdq.append(x1)\n",
    "    except:\n",
    "        pass\n",
    "            \n",
    "keys = pdq\n",
    "values = aic\n",
    "d = dict(zip(keys, values))\n",
    "print (d)\n"
   ]
  },
  {
   "cell_type": "code",
   "execution_count": 2,
   "metadata": {},
   "outputs": [],
   "source": [
    "import pandas as pd\n",
    "import matplotlib.pyplot as plt\n",
    "import statsmodels.graphics.tsaplots as tsa_plots\n",
    "from statsmodels.tsa.arima_model import ARIMA"
   ]
  },
  {
   "cell_type": "code",
   "execution_count": 4,
   "metadata": {},
   "outputs": [
    {
     "data": {
      "text/html": [
       "<div>\n",
       "<style scoped>\n",
       "    .dataframe tbody tr th:only-of-type {\n",
       "        vertical-align: middle;\n",
       "    }\n",
       "\n",
       "    .dataframe tbody tr th {\n",
       "        vertical-align: top;\n",
       "    }\n",
       "\n",
       "    .dataframe thead th {\n",
       "        text-align: right;\n",
       "    }\n",
       "</style>\n",
       "<table border=\"1\" class=\"dataframe\">\n",
       "  <thead>\n",
       "    <tr style=\"text-align: right;\">\n",
       "      <th></th>\n",
       "      <th>Month</th>\n",
       "      <th>Ridership</th>\n",
       "    </tr>\n",
       "  </thead>\n",
       "  <tbody>\n",
       "    <tr>\n",
       "      <th>0</th>\n",
       "      <td>Jan-91</td>\n",
       "      <td>1709</td>\n",
       "    </tr>\n",
       "    <tr>\n",
       "      <th>1</th>\n",
       "      <td>Feb-91</td>\n",
       "      <td>1621</td>\n",
       "    </tr>\n",
       "    <tr>\n",
       "      <th>2</th>\n",
       "      <td>Mar-91</td>\n",
       "      <td>1973</td>\n",
       "    </tr>\n",
       "    <tr>\n",
       "      <th>3</th>\n",
       "      <td>Apr-91</td>\n",
       "      <td>1812</td>\n",
       "    </tr>\n",
       "    <tr>\n",
       "      <th>4</th>\n",
       "      <td>May-91</td>\n",
       "      <td>1975</td>\n",
       "    </tr>\n",
       "    <tr>\n",
       "      <th>...</th>\n",
       "      <td>...</td>\n",
       "      <td>...</td>\n",
       "    </tr>\n",
       "    <tr>\n",
       "      <th>154</th>\n",
       "      <td>3-Nov</td>\n",
       "      <td>2076</td>\n",
       "    </tr>\n",
       "    <tr>\n",
       "      <th>155</th>\n",
       "      <td>3-Dec</td>\n",
       "      <td>2141</td>\n",
       "    </tr>\n",
       "    <tr>\n",
       "      <th>156</th>\n",
       "      <td>4-Jan</td>\n",
       "      <td>1832</td>\n",
       "    </tr>\n",
       "    <tr>\n",
       "      <th>157</th>\n",
       "      <td>4-Feb</td>\n",
       "      <td>1838</td>\n",
       "    </tr>\n",
       "    <tr>\n",
       "      <th>158</th>\n",
       "      <td>4-Mar</td>\n",
       "      <td>2132</td>\n",
       "    </tr>\n",
       "  </tbody>\n",
       "</table>\n",
       "<p>159 rows × 2 columns</p>\n",
       "</div>"
      ],
      "text/plain": [
       "      Month  Ridership\n",
       "0    Jan-91       1709\n",
       "1    Feb-91       1621\n",
       "2    Mar-91       1973\n",
       "3    Apr-91       1812\n",
       "4    May-91       1975\n",
       "..      ...        ...\n",
       "154   3-Nov       2076\n",
       "155   3-Dec       2141\n",
       "156   4-Jan       1832\n",
       "157   4-Feb       1838\n",
       "158   4-Mar       2132\n",
       "\n",
       "[159 rows x 2 columns]"
      ]
     },
     "execution_count": 4,
     "metadata": {},
     "output_type": "execute_result"
    }
   ],
   "source": [
    "Amtrak = pd.read_csv(\"Amtrak.csv\")\n",
    "Amtrak.rename(columns={\"Ridership ('000)\":\"Ridership\"},inplace=True) \n",
    "Amtrak"
   ]
  },
  {
   "cell_type": "code",
   "execution_count": 5,
   "metadata": {},
   "outputs": [
    {
     "data": {
      "image/png": "[encoded data removed]",
      "text/plain": [
       "<Figure size 432x288 with 1 Axes>"
      ]
     },
     "execution_count": 5,
     "metadata": {},
     "output_type": "execute_result"
    },
    {
     "data": {
      "image/png": "[encoded data removed]",
      "text/plain": [
       "<Figure size 432x288 with 1 Axes>"
      ]
     },
     "metadata": {
      "needs_background": "light"
     },
     "output_type": "display_data"
    },
    {
     "data": {
      "image/png": "[encoded data removed]",
      "text/plain": [
       "<Figure size 432x288 with 1 Axes>"
      ]
     },
     "metadata": {
      "needs_background": "light"
     },
     "output_type": "display_data"
    }
   ],
   "source": [
    "tsa_plots.plot_acf(Amtrak.Ridership,lags=12)\n",
    "tsa_plots.plot_pacf(Amtrak.Ridership,lags=12)"
   ]
  },
  {
   "cell_type": "code",
   "execution_count": 7,
   "metadata": {},
   "outputs": [
    {
     "name": "stderr",
     "output_type": "stream",
     "text": [
      "C:\\python\\anaconda3\\lib\\site-packages\\statsmodels\\base\\model.py:548: HessianInversionWarning: Inverting hessian failed, no bse or cov_params available\n",
      "  'available', HessianInversionWarning)\n"
     ]
    },
    {
     "name": "stdout",
     "output_type": "stream",
     "text": [
      "1980.763696613155\n"
     ]
    },
    {
     "data": {
      "text/plain": [
       "2000.2628728847724"
      ]
     },
     "execution_count": 7,
     "metadata": {},
     "output_type": "execute_result"
    }
   ],
   "source": [
    "model1=ARIMA(Amtrak.Ridership,order=(1,1,6)).fit(disp=0)\n",
    "model2=ARIMA(Amtrak.Ridership,order=(1,1,5)).fit(disp=0)\n",
    "print(model1.aic)\n",
    "model2.aic"
   ]
  },
  {
   "cell_type": "code",
   "execution_count": 8,
   "metadata": {},
   "outputs": [
    {
     "name": "stdout",
     "output_type": "stream",
     "text": [
      "{(1, 1, 0): 2063.3139358817857, (1, 1, 1): 2026.7824810969603, (1, 1, 2): 2027.141474357383, (1, 1, 3): 2022.0307951464695, (1, 1, 4): 2010.9633703040397, (1, 1, 5): 2000.2628728847724, (1, 1, 6): 1980.763696613155}\n"
     ]
    },
    {
     "name": "stderr",
     "output_type": "stream",
     "text": [
      "C:\\python\\anaconda3\\lib\\site-packages\\statsmodels\\base\\model.py:548: HessianInversionWarning: Inverting hessian failed, no bse or cov_params available\n",
      "  'available', HessianInversionWarning)\n"
     ]
    }
   ],
   "source": [
    "p=1\n",
    "q=0\n",
    "d=1\n",
    "pdq=[]\n",
    "aic=[]\n",
    "for q in range(7):\n",
    "    try:\n",
    "        model=ARIMA(Amtrak.Ridership,order=(p,d,q)).fit(disp=0)\n",
    "\n",
    "        x=model.aic\n",
    "\n",
    "        x1= p,d,q\n",
    "               \n",
    "        aic.append(x)\n",
    "        pdq.append(x1)\n",
    "    except:\n",
    "        pass\n",
    "            \n",
    "keys = pdq\n",
    "values = aic\n",
    "d = dict(zip(keys, values))\n",
    "print (d)"
   ]
  },
  {
   "cell_type": "code",
   "execution_count": null,
   "metadata": {},
   "outputs": [],
   "source": []
  }
 ],
 "metadata": {
  "kernelspec": {
   "display_name": "Python 3",
   "language": "python",
   "name": "python3"
  },
  "language_info": {
   "codemirror_mode": {
    "name": "ipython",
    "version": 3
   },
   "file_extension": ".py",
   "mimetype": "text/x-python",
   "name": "python",
   "nbconvert_exporter": "python",
   "pygments_lexer": "ipython3",
   "version": "3.7.6"
  }
 },
 "nbformat": 4,
 "nbformat_minor": 4
}
